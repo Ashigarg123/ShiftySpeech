{
 "cells": [
  {
   "cell_type": "markdown",
   "metadata": {},
   "source": [
    "# Grad-TTS: A Diffusion Probabilistic Model for Text-to-Speech\n",
    "\n",
    "Official implementation of the Grad-TTS model based on Diffusion Probabilistic Models. For all details check out our paper accepted to ICML 2021 via [this](https://arxiv.org/abs/2105.06337) link.\n",
    "\n",
    "You can listen to the samples on our demo page via [this](https://grad-tts.github.io/) link.\n",
    "\n",
    "You can access Google Colab demo notebook via [this](https://colab.research.google.com/drive/1YNrXtkJQKcYDmIYJeyX8s5eXxB4zgpZI?usp=sharing) link.\n",
    "\n",
    "**Authors**: Vadim Popov\\*, Ivan Vovk\\*, Vladimir Gogoryan, Tasnima Sadekova, Mikhail Kudinov.\n",
    "\n",
    "<sup>\\*Equal contribution.</sup>\n",
    "\n",
    "**Note**: for fast synthesis prefer running inference on GPU device."
   ]
  },
  {
   "cell_type": "code",
   "execution_count": null,
   "metadata": {},
   "outputs": [],
   "source": [
    "%env CUDA_VISIBLE_DEVICES=0"
   ]
  },
  {
   "cell_type": "code",
   "execution_count": 1,
   "metadata": {},
   "outputs": [
    {
     "ename": "ModuleNotFoundError",
     "evalue": "No module named 'model.monotonic_align.model'",
     "output_type": "error",
     "traceback": [
      "\u001b[0;31m---------------------------------------------------------------------------\u001b[0m",
      "\u001b[0;31mModuleNotFoundError\u001b[0m                       Traceback (most recent call last)",
      "Cell \u001b[0;32mIn[1], line 13\u001b[0m\n\u001b[1;32m     10\u001b[0m \u001b[38;5;28;01mimport\u001b[39;00m \u001b[38;5;21;01mtorch\u001b[39;00m\n\u001b[1;32m     12\u001b[0m \u001b[38;5;66;03m# For Grad-TTS\u001b[39;00m\n\u001b[0;32m---> 13\u001b[0m \u001b[38;5;28;01mimport\u001b[39;00m \u001b[38;5;21;01mparams\u001b[39;00m\n\u001b[1;32m     14\u001b[0m \u001b[38;5;28;01mfrom\u001b[39;00m \u001b[38;5;21;01mmodel\u001b[39;00m \u001b[38;5;28;01mimport\u001b[39;00m GradTTS\n\u001b[1;32m     15\u001b[0m \u001b[38;5;28;01mfrom\u001b[39;00m \u001b[38;5;21;01mtext\u001b[39;00m \u001b[38;5;28;01mimport\u001b[39;00m text_to_sequence, cmudict\n",
      "File \u001b[0;32m~/projects/speech-synthesis/fewshot/curr_fewshot/tts-systems/Speech-Backbones/Grad-TTS/params.py:9\u001b[0m\n\u001b[1;32m      1\u001b[0m \u001b[38;5;66;03m# Copyright (C) 2021. Huawei Technologies Co., Ltd. All rights reserved.\u001b[39;00m\n\u001b[1;32m      2\u001b[0m \u001b[38;5;66;03m# This program is free software; you can redistribute it and/or modify\u001b[39;00m\n\u001b[1;32m      3\u001b[0m \u001b[38;5;66;03m# it under the terms of the MIT License.\u001b[39;00m\n\u001b[0;32m   (...)\u001b[0m\n\u001b[1;32m      6\u001b[0m \u001b[38;5;66;03m# MERCHANTABILITY or FITNESS FOR A PARTICULAR PURPOSE. See the\u001b[39;00m\n\u001b[1;32m      7\u001b[0m \u001b[38;5;66;03m# MIT License for more details.\u001b[39;00m\n\u001b[0;32m----> 9\u001b[0m \u001b[38;5;28;01mfrom\u001b[39;00m \u001b[38;5;21;01mmodel\u001b[39;00m\u001b[38;5;21;01m.\u001b[39;00m\u001b[38;5;21;01mutils\u001b[39;00m \u001b[38;5;28;01mimport\u001b[39;00m fix_len_compatibility\n\u001b[1;32m     12\u001b[0m \u001b[38;5;66;03m# data parameters\u001b[39;00m\n\u001b[1;32m     13\u001b[0m train_filelist_path \u001b[38;5;241m=\u001b[39m \u001b[38;5;124m'\u001b[39m\u001b[38;5;124mresources/filelists/ljspeech/train.txt\u001b[39m\u001b[38;5;124m'\u001b[39m\n",
      "File \u001b[0;32m~/projects/speech-synthesis/fewshot/curr_fewshot/tts-systems/Speech-Backbones/Grad-TTS/model/__init__.py:9\u001b[0m\n\u001b[1;32m      1\u001b[0m \u001b[38;5;66;03m# Copyright (C) 2021. Huawei Technologies Co., Ltd. All rights reserved.\u001b[39;00m\n\u001b[1;32m      2\u001b[0m \u001b[38;5;66;03m# This program is free software; you can redistribute it and/or modify\u001b[39;00m\n\u001b[1;32m      3\u001b[0m \u001b[38;5;66;03m# it under the terms of the MIT License.\u001b[39;00m\n\u001b[0;32m   (...)\u001b[0m\n\u001b[1;32m      6\u001b[0m \u001b[38;5;66;03m# MERCHANTABILITY or FITNESS FOR A PARTICULAR PURPOSE. See the\u001b[39;00m\n\u001b[1;32m      7\u001b[0m \u001b[38;5;66;03m# MIT License for more details.\u001b[39;00m\n\u001b[0;32m----> 9\u001b[0m \u001b[38;5;28;01mfrom\u001b[39;00m \u001b[38;5;21;01m.\u001b[39;00m\u001b[38;5;21;01mtts\u001b[39;00m \u001b[38;5;28;01mimport\u001b[39;00m GradTTS\n",
      "File \u001b[0;32m~/projects/speech-synthesis/fewshot/curr_fewshot/tts-systems/Speech-Backbones/Grad-TTS/model/tts.py:14\u001b[0m\n\u001b[1;32m     10\u001b[0m \u001b[38;5;28;01mimport\u001b[39;00m \u001b[38;5;21;01mrandom\u001b[39;00m\n\u001b[1;32m     12\u001b[0m \u001b[38;5;28;01mimport\u001b[39;00m \u001b[38;5;21;01mtorch\u001b[39;00m\n\u001b[0;32m---> 14\u001b[0m \u001b[38;5;28;01mfrom\u001b[39;00m \u001b[38;5;21;01mmodel\u001b[39;00m \u001b[38;5;28;01mimport\u001b[39;00m monotonic_align\n\u001b[1;32m     15\u001b[0m \u001b[38;5;66;03m# import monotonic_align\u001b[39;00m\n\u001b[1;32m     16\u001b[0m \u001b[38;5;28;01mfrom\u001b[39;00m \u001b[38;5;21;01mmodel\u001b[39;00m\u001b[38;5;21;01m.\u001b[39;00m\u001b[38;5;21;01mbase\u001b[39;00m \u001b[38;5;28;01mimport\u001b[39;00m BaseModule\n",
      "File \u001b[0;32m~/projects/speech-synthesis/fewshot/curr_fewshot/tts-systems/Speech-Backbones/Grad-TTS/model/monotonic_align/__init__.py:5\u001b[0m\n\u001b[1;32m      3\u001b[0m \u001b[38;5;28;01mimport\u001b[39;00m \u001b[38;5;21;01mnumpy\u001b[39;00m \u001b[38;5;28;01mas\u001b[39;00m \u001b[38;5;21;01mnp\u001b[39;00m\n\u001b[1;32m      4\u001b[0m \u001b[38;5;28;01mimport\u001b[39;00m \u001b[38;5;21;01mtorch\u001b[39;00m\n\u001b[0;32m----> 5\u001b[0m \u001b[38;5;28;01mfrom\u001b[39;00m \u001b[38;5;21;01m.\u001b[39;00m\u001b[38;5;21;01mmodel\u001b[39;00m\u001b[38;5;21;01m.\u001b[39;00m\u001b[38;5;21;01mmonotonic_align\u001b[39;00m\u001b[38;5;21;01m.\u001b[39;00m\u001b[38;5;21;01mcore\u001b[39;00m \u001b[38;5;28;01mimport\u001b[39;00m maximum_path_c\n\u001b[1;32m      8\u001b[0m \u001b[38;5;28;01mdef\u001b[39;00m \u001b[38;5;21mmaximum_path\u001b[39m(value, mask):  \n\u001b[1;32m      9\u001b[0m \u001b[38;5;250m    \u001b[39m\u001b[38;5;124;03m\"\"\" Cython optimised version.\u001b[39;00m\n\u001b[1;32m     10\u001b[0m \u001b[38;5;124;03m    value: [b, t_x, t_y]\u001b[39;00m\n\u001b[1;32m     11\u001b[0m \u001b[38;5;124;03m    mask: [b, t_x, t_y]\u001b[39;00m\n\u001b[1;32m     12\u001b[0m \u001b[38;5;124;03m    \"\"\"\u001b[39;00m\n",
      "\u001b[0;31mModuleNotFoundError\u001b[0m: No module named 'model.monotonic_align.model'"
     ]
    }
   ],
   "source": [
    "import argparse\n",
    "import json\n",
    "import datetime as dt\n",
    "import numpy as np\n",
    "import matplotlib.pyplot as plt\n",
    "import IPython.display as ipd\n",
    "from tqdm import tqdm\n",
    "from scipy.io.wavfile import write\n",
    "\n",
    "import torch\n",
    "\n",
    "# For Grad-TTS\n",
    "import params\n",
    "from model import GradTTS\n",
    "from text import text_to_sequence, cmudict\n",
    "from text.symbols import symbols\n",
    "from utils import intersperse\n",
    "\n",
    "# For HiFi-GAN\n",
    "import sys\n",
    "sys.path.append('./hifi-gan/')\n",
    "from env import AttrDict\n",
    "from models import Generator as HiFiGAN"
   ]
  },
  {
   "cell_type": "code",
   "execution_count": null,
   "metadata": {},
   "outputs": [],
   "source": [
    "N_SPKS = 247  # 247 for Libri-TTS model and 1 for single speaker (LJSpeech)"
   ]
  },
  {
   "cell_type": "code",
   "execution_count": null,
   "metadata": {},
   "outputs": [],
   "source": [
    "generator = GradTTS(len(symbols)+1, N_SPKS, params.spk_emb_dim,\n",
    "                    params.n_enc_channels, params.filter_channels,\n",
    "                    params.filter_channels_dp, params.n_heads, params.n_enc_layers,\n",
    "                    params.enc_kernel, params.enc_dropout, params.window_size,\n",
    "                    params.n_feats, params.dec_dim, params.beta_min, params.beta_max,\n",
    "                    pe_scale=1000)  # pe_scale=1 for `grad-tts-old.pt`\n",
    "generator.load_state_dict(torch.load('./checkpts/grad-tts-libri-tts.pt', map_location=lambda loc, storage: loc))\n",
    "_ = generator.cuda().eval()\n",
    "print(f'Number of parameters: {generator.nparams}')\n",
    "\n",
    "cmu = cmudict.CMUDict('./resources/cmu_dictionary')"
   ]
  },
  {
   "cell_type": "code",
   "execution_count": null,
   "metadata": {},
   "outputs": [],
   "source": [
    "with open('./checkpts/hifigan-config.json') as f:\n",
    "    h = AttrDict(json.load(f))\n",
    "hifigan = HiFiGAN(h)\n",
    "hifigan.load_state_dict(torch.load('./checkpts/hifigan.pt', map_location=lambda loc, storage: loc)['generator'])\n",
    "_ = hifigan.cuda().eval()\n",
    "hifigan.remove_weight_norm()\n",
    "%matplotlib inline"
   ]
  },
  {
   "cell_type": "code",
   "execution_count": null,
   "metadata": {},
   "outputs": [],
   "source": [
    "text = \"Here are the match lineups for the Colombia Haiti match.\""
   ]
  },
  {
   "cell_type": "code",
   "execution_count": null,
   "metadata": {},
   "outputs": [],
   "source": [
    "x = torch.LongTensor(intersperse(text_to_sequence(text, dictionary=cmu), len(symbols))).cuda()[None]\n",
    "x_lengths = torch.LongTensor([x.shape[-1]]).cuda()\n",
    "x.shape, x_lengths"
   ]
  },
  {
   "cell_type": "code",
   "execution_count": null,
   "metadata": {},
   "outputs": [],
   "source": [
    "t = dt.datetime.now()\n",
    "y_enc, y_dec, attn = generator.forward(x, x_lengths, n_timesteps=50, temperature=1.3,\n",
    "                                       stoc=False, spk=None if N_SPKS==1 else torch.LongTensor([15]).cuda(),\n",
    "                                       length_scale=0.91)\n",
    "t = (dt.datetime.now() - t).total_seconds()\n",
    "print(f'Grad-TTS RTF: {t * 22050 / (y_dec.shape[-1] * 256)}')\n",
    "\n",
    "plt.figure(figsize=(15, 4))\n",
    "plt.subplot(1, 3, 1)\n",
    "plt.title('Encoder outputs')\n",
    "plt.imshow(y_enc.cpu().squeeze(), aspect='auto', origin='lower')\n",
    "plt.colorbar()\n",
    "plt.subplot(1, 3, 2)\n",
    "plt.title('Decoder outputs')\n",
    "plt.imshow(y_dec.cpu().squeeze(), aspect='auto', origin='lower')\n",
    "plt.colorbar()\n",
    "plt.subplot(1, 3, 3)\n",
    "plt.title('Alignment')\n",
    "plt.imshow(attn.cpu().squeeze(), aspect='auto', origin='lower');"
   ]
  },
  {
   "cell_type": "code",
   "execution_count": null,
   "metadata": {},
   "outputs": [],
   "source": [
    "with torch.no_grad():\n",
    "    audio = hifigan.forward(y_dec).cpu().squeeze().clamp(-1, 1)\n",
    "ipd.display(ipd.Audio(audio, rate=22050))"
   ]
  },
  {
   "cell_type": "code",
   "execution_count": null,
   "metadata": {},
   "outputs": [],
   "source": []
  }
 ],
 "metadata": {
  "interpreter": {
   "hash": "1c27759576147a09f82f75fe7e6da160ee29ac300de0ba196702adc9d307c9a1"
  },
  "kernelspec": {
   "display_name": "Python 3.8.3 64-bit",
   "name": "python3"
  },
  "language_info": {
   "codemirror_mode": {
    "name": "ipython",
    "version": 3
   },
   "file_extension": ".py",
   "mimetype": "text/x-python",
   "name": "python",
   "nbconvert_exporter": "python",
   "pygments_lexer": "ipython3",
   "version": "3.12.3"
  },
  "metadata": {
   "interpreter": {
    "hash": "1c27759576147a09f82f75fe7e6da160ee29ac300de0ba196702adc9d307c9a1"
   }
  }
 },
 "nbformat": 4,
 "nbformat_minor": 4
}
